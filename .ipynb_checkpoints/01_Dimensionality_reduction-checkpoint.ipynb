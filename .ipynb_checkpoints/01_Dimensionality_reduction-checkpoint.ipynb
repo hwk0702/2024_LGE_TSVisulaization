{
 "cells": [
  {
   "cell_type": "markdown",
   "metadata": {},
   "source": [
    "# [ LG전자_DIC ] 시계열 데이터 시각화"
   ]
  },
  {
   "cell_type": "markdown",
   "metadata": {},
   "source": [
    "## 주성분분석 & MDS & t-SNE"
   ]
  },
  {
   "cell_type": "markdown",
   "metadata": {},
   "source": [
    "### 강의 복습\n",
    "강의자료 : 시계열 데이터 시각화\n",
    "\n",
    "- 주성분분석 : 대표적인 선형 차원 감소 기법으로써 원래 데이터의 분산을 최대한 보존하는 새로운 기저(축, basis)를 찾고, 그 축에 데이터를 사영(projection)시키는 기법\n",
    "- MDS : 두 객체 사이의 상대적인 거리 정보가 최대한 정확하게 보존되는 저차원의 좌표계를 찾는 것\n",
    "- Isomap : 데이터 포인트 간의 근접성을 기반으로 그래프를 만들고 모든 데이터 포인트 쌍 간의 최단 경로를 찾아 고차원 공간에서의 '거리'를 추정, 최단 경로로 구한 거리 행렬을 사용하여, 데이터를 저차원 공간으로 임베딩\n",
    "- LLE : 각 데이터 포인트에 대해 가장 가까운 이웃들을 찾고 각 데이터 포인트를 그 이웃들의 선형 조합으로 재구성할 수 있는 가중치를 계산, 계산된 재구성 가중치를 유지하면서 고차원 데이터를 저차원 공간으로 매핑\n",
    "- t-SNE : 가까운 이웃 객체들과의 거리 정보를 잘 보존하는 것이 멀리 떨어진 객체들과의 거리 정보를 보존하는 것보다 더 중요함을 가정으로 local pairwise distance를 확정적(deterministic)이 아닌 확률적(probabilistic)으로 정의함"
   ]
  },
  {
   "cell_type": "markdown",
   "metadata": {},
   "source": [
    "<img src=\"./image/PCA01.png\" width=\"800\">"
   ]
  },
  {
   "cell_type": "markdown",
   "metadata": {},
   "source": [
    "### 실습 요약\n",
    "1. 본 실습에서는 주성분분석을 통해 차원 축소를 진행합니다.\n",
    "2. 분류 과업을 위해 선형 회귀 모델과 로지스틱 모델을 통해 차원 축소 성능을 확인합니다."
   ]
  },
  {
   "cell_type": "markdown",
   "metadata": {},
   "source": [
    "---"
   ]
  },
  {
   "cell_type": "code",
   "execution_count": null,
   "metadata": {
    "ExecuteTime": {
     "end_time": "2024-05-08T12:19:43.334361Z",
     "start_time": "2024-05-08T12:19:42.824489Z"
    }
   },
   "outputs": [],
   "source": [
    "import numpy as np  # 다차원 배열과 연산을 다루는 모듈\n",
    "import pandas as pd  # 데이터 조작 및 분석을 위한 모듈\n",
    "import matplotlib.pyplot as plt  # 데이터 시각화를 위한 모듈\n",
    "%matplotlib inline\n",
    "\n",
    "import warnings  # 경고 메시지를 관리하기 위한 모듈\n",
    "warnings.filterwarnings(\"ignore\")  # 경고 메시지를 무시하도록 설정"
   ]
  },
  {
   "cell_type": "markdown",
   "metadata": {},
   "source": [
    "### 주성분 분석 (PCA)"
   ]
  },
  {
   "cell_type": "markdown",
   "metadata": {},
   "source": [
    "데이터의 분산(정보량)을 최대한 보존할 수 있는 기저 벡터를 찾는 것 (기저 벡터에 원래 벡터를 사영하여 새로운 좌표 생성)"
   ]
  },
  {
   "cell_type": "code",
   "execution_count": null,
   "metadata": {
    "ExecuteTime": {
     "end_time": "2024-05-08T12:19:43.436565Z",
     "start_time": "2024-05-08T12:19:43.336057Z"
    }
   },
   "outputs": [],
   "source": [
    "rng = np.random.RandomState(1)\n",
    "X = np.dot(rng.rand(2, 2), rng.randn(2, 200)).T\n",
    "plt.scatter(X[:, 0], X[:, 1])\n",
    "plt.axis('equal');"
   ]
  },
  {
   "cell_type": "code",
   "execution_count": null,
   "metadata": {
    "ExecuteTime": {
     "end_time": "2024-05-08T12:19:43.881889Z",
     "start_time": "2024-05-08T12:19:43.438247Z"
    }
   },
   "outputs": [],
   "source": [
    "from sklearn.decomposition import PCA\n",
    "pca = PCA(n_components=2)\n",
    "pca.fit(X)"
   ]
  },
  {
   "cell_type": "markdown",
   "metadata": {},
   "source": [
    "주성분분석을 통해 새로운 기저에 사영된 데이터의 분산이 어느정도인지 계산 가능함"
   ]
  },
  {
   "cell_type": "markdown",
   "metadata": {},
   "source": [
    "<img src=\"./image/PCA02.png\" width=\"500\">"
   ]
  },
  {
   "cell_type": "code",
   "execution_count": null,
   "metadata": {
    "ExecuteTime": {
     "end_time": "2024-05-08T12:19:43.886710Z",
     "start_time": "2024-05-08T12:19:43.883317Z"
    }
   },
   "outputs": [],
   "source": [
    "print(pca.components_)"
   ]
  },
  {
   "cell_type": "code",
   "execution_count": null,
   "metadata": {
    "ExecuteTime": {
     "end_time": "2024-05-08T12:19:43.986188Z",
     "start_time": "2024-05-08T12:19:43.887851Z"
    }
   },
   "outputs": [],
   "source": [
    "print(pca.explained_variance_)"
   ]
  },
  {
   "cell_type": "markdown",
   "metadata": {},
   "source": [
    "이 숫자들이 무엇을 의미하는지 알아보기 위해 입력 데이터 위에 벡터로 시각화하여 '구성 요소'를 사용하여 벡터의 방향을 정의하고 '설명 분산'을 사용하여 벡터의 제곱 길이를 정의"
   ]
  },
  {
   "cell_type": "code",
   "execution_count": null,
   "metadata": {
    "ExecuteTime": {
     "end_time": "2024-05-08T12:19:44.188565Z",
     "start_time": "2024-05-08T12:19:43.989350Z"
    }
   },
   "outputs": [],
   "source": [
    "def draw_vector(v0, v1, ax=None):\n",
    "    ax = ax or plt.gca()\n",
    "    arrowprops=dict(arrowstyle='->',\n",
    "                    linewidth=2,\n",
    "                    shrinkA=0, shrinkB=0)\n",
    "    ax.annotate('', v1, v0, arrowprops=arrowprops)\n",
    "\n",
    "# plot data\n",
    "plt.scatter(X[:, 0], X[:, 1], alpha=0.2)\n",
    "for length, vector in zip(pca.explained_variance_, pca.components_):\n",
    "    v = vector * 3 * np.sqrt(length)\n",
    "    draw_vector(pca.mean_, pca.mean_ + v)\n",
    "plt.axis('equal');"
   ]
  },
  {
   "cell_type": "markdown",
   "metadata": {},
   "source": [
    "이러한 벡터는 데이터의 주축을 나타내며, 벡터의 길이는 데이터의 분포를 설명하는 데 있어 해당 축이 얼마나 '중요한지', 더 정확하게는 해당 축에 투영되었을 때 데이터의 분산을 나타내는 척도입니다. 각 데이터 포인트를 주축에 투영하는 것이 데이터의 '주성분'입니다."
   ]
  },
  {
   "cell_type": "markdown",
   "metadata": {},
   "source": [
    "#### 차원 축소"
   ]
  },
  {
   "cell_type": "markdown",
   "metadata": {},
   "source": [
    "차원 축소를 위해 PCA를 사용하면 가장 작은 주성분 중 하나 이상을 제로화하여 최대 데이터 분산을 보존하는 저차원 데이터 투영을 할 수 있습니다."
   ]
  },
  {
   "cell_type": "code",
   "execution_count": null,
   "metadata": {
    "ExecuteTime": {
     "end_time": "2024-05-08T12:19:44.193755Z",
     "start_time": "2024-05-08T12:19:44.189848Z"
    }
   },
   "outputs": [],
   "source": [
    "pca = PCA(n_components=1)\n",
    "pca.fit(X)\n",
    "X_pca = pca.transform(X)\n",
    "print(\"original shape:   \", X.shape)\n",
    "print(\"transformed shape:\", X_pca.shape)"
   ]
  },
  {
   "cell_type": "code",
   "execution_count": null,
   "metadata": {
    "ExecuteTime": {
     "end_time": "2024-05-08T12:19:44.391696Z",
     "start_time": "2024-05-08T12:19:44.196027Z"
    }
   },
   "outputs": [],
   "source": [
    "X_new = pca.inverse_transform(X_pca)\n",
    "plt.scatter(X[:, 0], X[:, 1], alpha=0.2)\n",
    "plt.scatter(X_new[:, 0], X_new[:, 1], alpha=0.8)\n",
    "plt.axis('equal');"
   ]
  },
  {
   "cell_type": "markdown",
   "metadata": {},
   "source": [
    "중요하지 않은 주축의 정보는 제거되고 분산이 가장 큰 데이터의 구성 요소만 남게 됩니다. 잘려나간 분산의 비율(이 그림에서 형성된 선에 대한 점의 확산에 비례)은 이 차원 축소에서 얼마나 많은 '정보'가 버려지는지 대략적으로 측정할 수 있습니다."
   ]
  },
  {
   "cell_type": "markdown",
   "metadata": {},
   "source": [
    "### Manifold learning"
   ]
  },
  {
   "cell_type": "markdown",
   "metadata": {},
   "source": [
    "주성분 분석은 유연하고 빠르며 쉽게 해석할 수 있지만, 데이터 내에 비선형 관계가 있는 경우에는 그다지 좋은 성능을 발휘하지 못합니다.\n",
    "\n",
    "이러한 결함을 해결하기 위해, 데이터 집합을 고차원 공간에 포함된 저차원 다양체로 설명하는 비지도 추정기인 매니폴드 학습으로 알려진 방법 클래스를 사용할 수 있습니다. "
   ]
  },
  {
   "cell_type": "code",
   "execution_count": null,
   "metadata": {
    "ExecuteTime": {
     "end_time": "2024-05-08T12:19:44.430479Z",
     "start_time": "2024-05-08T12:19:44.393400Z"
    }
   },
   "outputs": [],
   "source": [
    "from sklearn.datasets import make_swiss_roll\n",
    "X, t = make_swiss_roll(n_samples=1000, noise=0.2, random_state=42)"
   ]
  },
  {
   "cell_type": "code",
   "execution_count": null,
   "metadata": {
    "ExecuteTime": {
     "end_time": "2024-05-08T12:19:44.763640Z",
     "start_time": "2024-05-08T12:19:44.433356Z"
    }
   },
   "outputs": [],
   "source": [
    "axes = [-11.5, 14, -2, 23, -12, 15]\n",
    "\n",
    "fig = plt.figure(figsize=(12, 10))\n",
    "ax = fig.add_subplot(111, projection='3d')\n",
    "\n",
    "ax.scatter(X[:, 0], X[:, 1], X[:, 2], c=t, cmap=plt.cm.hot)\n",
    "ax.view_init(10, -70)\n",
    "ax.set_xlabel(\"$x_1$\", fontsize=18)\n",
    "ax.set_ylabel(\"$x_2$\", fontsize=18)\n",
    "ax.set_zlabel(\"$x_3$\", fontsize=18)\n",
    "ax.set_xlim(axes[0:2])\n",
    "ax.set_ylim(axes[2:4])\n",
    "ax.set_zlim(axes[4:6])\n",
    "\n",
    "plt.show()"
   ]
  },
  {
   "cell_type": "markdown",
   "metadata": {},
   "source": [
    "스위스롤은 2D manifold의 한 예로 고차원 공간에서 휘어지거나 뒤틀린 2D 모양입니다.국부적으로 2D 평면으로 보이지만 3차원으로 말려 있습니다."
   ]
  },
  {
   "cell_type": "markdown",
   "metadata": {},
   "source": [
    "단순히 평면에 투영시키면 뭉개집니다.\n",
    "\n",
    "왼쪽은 평면에 그냥 투영시켜서 뭉개진것, 오른쪽은 스위스 롤을 펼쳐 놓은 것"
   ]
  },
  {
   "cell_type": "code",
   "execution_count": null,
   "metadata": {
    "ExecuteTime": {
     "end_time": "2024-05-08T12:19:45.056651Z",
     "start_time": "2024-05-08T12:19:44.765004Z"
    }
   },
   "outputs": [],
   "source": [
    "plt.figure(figsize=(11, 4))\n",
    "\n",
    "plt.subplot(121)\n",
    "plt.scatter(X[:, 0], X[:, 1], c=t, cmap=plt.cm.hot)\n",
    "plt.axis(axes[:4])\n",
    "plt.xlabel(\"$x_1$\", fontsize=18)\n",
    "plt.ylabel(\"$x_2$\", fontsize=18, rotation=0)\n",
    "plt.grid(True)\n",
    "\n",
    "plt.subplot(122)\n",
    "plt.scatter(t, X[:, 1], c=t, cmap=plt.cm.hot)\n",
    "plt.axis([4, 15, axes[2], axes[3]])\n",
    "plt.xlabel(\"$z_1$\", fontsize=18)\n",
    "plt.grid(True)\n",
    "\n",
    "plt.show()"
   ]
  },
  {
   "cell_type": "markdown",
   "metadata": {},
   "source": [
    "#### PCA"
   ]
  },
  {
   "cell_type": "code",
   "execution_count": null,
   "metadata": {
    "ExecuteTime": {
     "end_time": "2024-05-08T12:19:45.074416Z",
     "start_time": "2024-05-08T12:19:45.057896Z"
    }
   },
   "outputs": [],
   "source": [
    "pca = PCA(n_components=2)\n",
    "X_reduced_pca = pca.fit_transform(X)"
   ]
  },
  {
   "cell_type": "code",
   "execution_count": null,
   "metadata": {
    "ExecuteTime": {
     "end_time": "2024-05-08T12:19:45.262063Z",
     "start_time": "2024-05-08T12:19:45.078889Z"
    }
   },
   "outputs": [],
   "source": [
    "plt.title(\"Unrolled swiss roll using PCA\", fontsize=14)\n",
    "plt.scatter(X_reduced_pca[:, 0], X_reduced_pca[:, 1], c=t, cmap=plt.cm.hot)\n",
    "plt.xlabel(\"$z_1$\", fontsize=18)\n",
    "plt.ylabel(\"$z_2$\", fontsize=18)\n",
    "plt.grid(True)\n",
    "\n",
    "plt.show()"
   ]
  },
  {
   "cell_type": "markdown",
   "metadata": {},
   "source": [
    "#### MDS\n",
    "- 두 객체 사이의 상대적인 거리 정보가 최대한 정확하게 보존되는 저차원의 좌표계를 찾는 것"
   ]
  },
  {
   "cell_type": "markdown",
   "metadata": {},
   "source": [
    "<img src=\"./image/MDS01.png\" width=\"800\">"
   ]
  },
  {
   "cell_type": "code",
   "execution_count": null,
   "metadata": {
    "ExecuteTime": {
     "end_time": "2024-05-08T12:20:09.767554Z",
     "start_time": "2024-05-08T12:19:45.263752Z"
    }
   },
   "outputs": [],
   "source": [
    "from sklearn.manifold import MDS\n",
    "\n",
    "mds = MDS(n_components=2, random_state=42)\n",
    "X_reduced_mds = mds.fit_transform(X)"
   ]
  },
  {
   "cell_type": "code",
   "execution_count": null,
   "metadata": {
    "ExecuteTime": {
     "end_time": "2024-05-08T12:20:09.963693Z",
     "start_time": "2024-05-08T12:20:09.769867Z"
    }
   },
   "outputs": [],
   "source": [
    "plt.title(\"Unrolled swiss roll using MDS\", fontsize=14)\n",
    "plt.scatter(X_reduced_mds[:, 0], X_reduced_mds[:, 1], c=t, cmap=plt.cm.hot)\n",
    "plt.xlabel(\"$z_1$\", fontsize=18)\n",
    "plt.ylabel(\"$z_2$\", fontsize=18)\n",
    "plt.grid(True)\n",
    "\n",
    "plt.show()"
   ]
  },
  {
   "cell_type": "markdown",
   "metadata": {},
   "source": [
    "#### Isometric Feature Mapping (Isomap)\n",
    "- PCA와 MDS의 알고리즘적 속성을 응용\n",
    "- MDS의 방식을 차용하되, 데이터의 내재적 기하정보를 사용\n",
    "\n",
    "1. 근접 그래프 생성: 데이터 포인트 간의 근접성을 기반으로 그래프를 만듭니다. 일반적으로 각 데이터 포인트에서 가장 가까운 k개의 이웃(k-nearest neighbors)을 연결하거나, 특정 거리 이내에 있는 모든 포인트를 연결하는 방법을 사용합니다.\n",
    "2. 최단 경로 계산: 생성된 그래프에서 모든 데이터 포인트 쌍 간의 최단 경로를 찾아 고차원 공간에서의 '거리'를 추정합니다. 이를 통해 데이터 포인트 간의 기하학적 관계를 파악합니다.\n",
    "3. 다차원 척도법(MDS) 적용: 최단 경로로 구한 거리 행렬을 사용하여, 데이터를 저차원 공간으로 임베딩합니다. 이 과정에서 데이터의 본래의 기하학적 구조를 가능한 한 유지하면서 차원을 축소합니다."
   ]
  },
  {
   "cell_type": "markdown",
   "metadata": {},
   "source": [
    "<img src=\"./image/Isomap01.png\" width=\"800\">"
   ]
  },
  {
   "cell_type": "code",
   "execution_count": null,
   "metadata": {
    "ExecuteTime": {
     "end_time": "2024-05-08T12:20:10.254069Z",
     "start_time": "2024-05-08T12:20:09.964953Z"
    }
   },
   "outputs": [],
   "source": [
    "from sklearn.manifold import Isomap\n",
    "\n",
    "isomap = Isomap(n_components=2)\n",
    "X_reduced_isomap = isomap.fit_transform(X)"
   ]
  },
  {
   "cell_type": "code",
   "execution_count": null,
   "metadata": {
    "ExecuteTime": {
     "end_time": "2024-05-08T12:20:10.452137Z",
     "start_time": "2024-05-08T12:20:10.257244Z"
    }
   },
   "outputs": [],
   "source": [
    "plt.title(\"Unrolled swiss roll using Isomap\", fontsize=14)\n",
    "plt.scatter(X_reduced_isomap[:, 0], X_reduced_isomap[:, 1], c=t, cmap=plt.cm.hot)\n",
    "plt.xlabel(\"$z_1$\", fontsize=18)\n",
    "plt.ylabel(\"$z_2$\", fontsize=18)\n",
    "plt.grid(True)\n",
    "\n",
    "plt.show()"
   ]
  },
  {
   "cell_type": "markdown",
   "metadata": {},
   "source": [
    "#### LLE"
   ]
  },
  {
   "cell_type": "markdown",
   "metadata": {},
   "source": [
    "- 비선형 차원 축소를 위한 고유벡터 기반의 방법론\n",
    "\n",
    "1. 근접 이웃 찾기: 각 데이터 포인트에 대해 가장 가까운 k개의 이웃을 찾습니다. 이 이웃은 해당 데이터 포인트와 국소적으로 선형적인 관계에 있다고 간주됩니다.\n",
    "2. 재구성 가중치 계산: 각 데이터 포인트를 그 이웃들의 선형 조합으로 재구성할 수 있는 가중치를 계산합니다. 이 가중치는 데이터 포인트 간의 국소적인 기하학적 구조를 캡처합니다.\n",
    "3. 저차원 매핑 최적화: 계산된 재구성 가중치를 유지하면서 고차원 데이터를 저차원 공간으로 매핑합니다. 이 과정은 재구성 오류를 최소화하는 방식으로 저차원에서 데이터 포인트의 위치를 조정합니다."
   ]
  },
  {
   "cell_type": "markdown",
   "metadata": {},
   "source": [
    "<img src=\"./image/LLE01.png\" width=\"800\">"
   ]
  },
  {
   "cell_type": "code",
   "execution_count": null,
   "metadata": {
    "ExecuteTime": {
     "end_time": "2024-05-08T12:20:10.535343Z",
     "start_time": "2024-05-08T12:20:10.453629Z"
    }
   },
   "outputs": [],
   "source": [
    "from sklearn.manifold import LocallyLinearEmbedding\n",
    "\n",
    "lle = LocallyLinearEmbedding(n_components=2, n_neighbors=10, random_state=42)\n",
    "X_reduced_lle = lle.fit_transform(X)"
   ]
  },
  {
   "cell_type": "code",
   "execution_count": null,
   "metadata": {
    "ExecuteTime": {
     "end_time": "2024-05-08T12:20:10.714758Z",
     "start_time": "2024-05-08T12:20:10.537557Z"
    }
   },
   "outputs": [],
   "source": [
    "plt.title(\"Unrolled swiss roll using LLE\", fontsize=14)\n",
    "plt.scatter(X_reduced_lle[:, 0], X_reduced_lle[:, 1], c=t, cmap=plt.cm.hot)\n",
    "plt.xlabel(\"$z_1$\", fontsize=18)\n",
    "plt.ylabel(\"$z_2$\", fontsize=18)\n",
    "plt.grid(True)\n",
    "\n",
    "plt.show()"
   ]
  },
  {
   "cell_type": "markdown",
   "metadata": {},
   "source": [
    "#### t-SNE\n",
    "- 가까운 이웃 객체들과의 거리 정보를 잘 보존하는 것이 멀리 떨어진 객체들과의 거리 정보를 보존하는 것보다 더 중요함\n",
    "- SNE는 local pairwise distance를 확정적(deterministic)이 아닌 확률적(probabilistic)으로 정의함\n",
    "- 원래 차원과 임베딩(embedding)된 이후의 저차원에서 두 객체간의 이웃 관계는 잘 보존이 되어야 함\n",
    "- 정규 분포를 사용하는 SNE와 달리 t-SNE는 t 분포를 사용하면 좀 더 멀리있는 객체에 대한 정보까지도 잘 반영함"
   ]
  },
  {
   "cell_type": "code",
   "execution_count": null,
   "metadata": {
    "ExecuteTime": {
     "end_time": "2024-05-08T12:20:12.234376Z",
     "start_time": "2024-05-08T12:20:10.716912Z"
    }
   },
   "outputs": [],
   "source": [
    "from sklearn.manifold import TSNE\n",
    "\n",
    "tsne = TSNE(n_components=2, random_state=42)\n",
    "X_reduced_tsne = tsne.fit_transform(X)"
   ]
  },
  {
   "cell_type": "code",
   "execution_count": null,
   "metadata": {
    "ExecuteTime": {
     "end_time": "2024-05-08T12:20:12.364409Z",
     "start_time": "2024-05-08T12:20:12.235625Z"
    }
   },
   "outputs": [],
   "source": [
    "plt.title(\"Unrolled swiss roll using t-SNE\", fontsize=14)\n",
    "plt.scatter(X_reduced_tsne[:, 0], X_reduced_tsne[:, 1], c=t, cmap=plt.cm.hot)\n",
    "plt.xlabel(\"$z_1$\", fontsize=18)\n",
    "plt.ylabel(\"$z_2$\", fontsize=18)\n",
    "plt.grid(True)\n",
    "\n",
    "plt.show()"
   ]
  },
  {
   "cell_type": "code",
   "execution_count": null,
   "metadata": {
    "ExecuteTime": {
     "end_time": "2024-05-08T12:20:12.840853Z",
     "start_time": "2024-05-08T12:20:12.365646Z"
    }
   },
   "outputs": [],
   "source": [
    "titles = [\"PCA\", \"MDS\", \"LLE\", \"Isomap\", \"t-SNE\"]\n",
    "\n",
    "plt.figure(figsize=(21,4))\n",
    "\n",
    "for subplot, title, X_reduced in zip((151, 152, 153, 154, 155), titles,\n",
    "                                     (X_reduced_pca, X_reduced_mds, X_reduced_lle, X_reduced_isomap, X_reduced_tsne)):\n",
    "    plt.subplot(subplot)\n",
    "    plt.title(title, fontsize=14)\n",
    "    plt.scatter(X_reduced[:, 0], X_reduced[:, 1], c=t, cmap=plt.cm.hot)\n",
    "    plt.xlabel(\"$z_1$\", fontsize=18)\n",
    "    if subplot == 151:\n",
    "        plt.ylabel(\"$z_2$\", fontsize=18, rotation=0)\n",
    "    plt.grid(True)\n",
    "\n",
    "plt.show()"
   ]
  },
  {
   "cell_type": "markdown",
   "metadata": {},
   "source": [
    "---"
   ]
  },
  {
   "cell_type": "markdown",
   "metadata": {},
   "source": [
    "### STEP 1. 데이터: malwares 데이터\n",
    "금일 실습에서는 Malwares Classification 데이터셋을 사용합니다.\n",
    "- Malware를 분류하는 것을 목적으로 하는 데이터 셋\n",
    "- 총 68개의 독립 변수를 통해 종속 변수(Not Malware=0, Malware=1)를 예측해야 함"
   ]
  },
  {
   "cell_type": "code",
   "execution_count": null,
   "metadata": {
    "ExecuteTime": {
     "end_time": "2024-05-08T12:20:12.852100Z",
     "start_time": "2024-05-08T12:20:12.849131Z"
    }
   },
   "outputs": [],
   "source": [
    "# github에서 데이터 불러오기\n",
    "# !git clone https://github.com/hwk0702/2024_LGE_TSVisulaization.git\n",
    "# %cd 2024_LGE_TSVisulaization"
   ]
  },
  {
   "cell_type": "code",
   "execution_count": null,
   "metadata": {
    "ExecuteTime": {
     "end_time": "2024-05-08T12:20:13.046383Z",
     "start_time": "2024-05-08T12:20:12.927143Z"
    }
   },
   "outputs": [],
   "source": [
    "#Malware Classification 데이터 셋 load\n",
    "malware_data = pd.read_csv('./data/Malwares Classification.csv')"
   ]
  },
  {
   "cell_type": "code",
   "execution_count": null,
   "metadata": {
    "ExecuteTime": {
     "end_time": "2024-05-08T12:20:13.083552Z",
     "start_time": "2024-05-08T12:20:13.048379Z"
    }
   },
   "outputs": [],
   "source": [
    "malware_data = malware_data.dropna(axis=0)\n",
    "malware_labels = malware_data.loc[:,'class']\n",
    "malware_data = malware_data.drop('class',axis=1)"
   ]
  },
  {
   "cell_type": "code",
   "execution_count": null,
   "metadata": {
    "ExecuteTime": {
     "end_time": "2024-05-08T12:20:13.188187Z",
     "start_time": "2024-05-08T12:20:13.086506Z"
    }
   },
   "outputs": [],
   "source": [
    "malware_data"
   ]
  },
  {
   "cell_type": "code",
   "execution_count": null,
   "metadata": {
    "ExecuteTime": {
     "end_time": "2024-05-08T12:20:13.254827Z",
     "start_time": "2024-05-08T12:20:13.192128Z"
    }
   },
   "outputs": [],
   "source": [
    "malware_labels"
   ]
  },
  {
   "cell_type": "markdown",
   "metadata": {},
   "source": [
    "### STEP 2. Data Split"
   ]
  },
  {
   "cell_type": "code",
   "execution_count": null,
   "metadata": {
    "ExecuteTime": {
     "end_time": "2024-05-08T12:20:13.330182Z",
     "start_time": "2024-05-08T12:20:13.257958Z"
    }
   },
   "outputs": [],
   "source": [
    "from sklearn.model_selection import train_test_split\n",
    "malware_X_train, malware_X_test, malware_y_train, malware_y_test = train_test_split(malware_data, malware_labels, test_size=0.2, random_state=42)"
   ]
  },
  {
   "cell_type": "markdown",
   "metadata": {},
   "source": [
    "### STEP 3. 산포 비교\n",
    "- 기법들을 활용하여 2차원, 3차원 상에서의 class별 산포를 확인함"
   ]
  },
  {
   "cell_type": "markdown",
   "metadata": {},
   "source": [
    "#### STEP 3.1. 2차원 산포 비교"
   ]
  },
  {
   "cell_type": "code",
   "execution_count": null,
   "metadata": {
    "ExecuteTime": {
     "end_time": "2024-05-08T12:28:42.122320Z",
     "start_time": "2024-05-08T12:20:13.334183Z"
    }
   },
   "outputs": [],
   "source": [
    "#malware 데이터 셋 차원 축소 결과, 정규화X\n",
    "malware_pca = PCA(n_components=2).fit_transform(malware_X_train)\n",
    "malware_mds = MDS(n_components=2, random_state=42).fit_transform(malware_X_train)\n",
    "malware_isomap = Isomap(n_components=2).fit_transform(malware_X_train)\n",
    "malware_LLE = LocallyLinearEmbedding(n_components=2, eigen_solver='dense').fit_transform(malware_X_train)\n",
    "malware_tsne = TSNE(n_components = 2, random_state=42).fit_transform(malware_X_train)"
   ]
  },
  {
   "cell_type": "code",
   "execution_count": null,
   "metadata": {
    "ExecuteTime": {
     "end_time": "2024-05-08T12:28:42.821172Z",
     "start_time": "2024-05-08T12:28:42.126469Z"
    }
   },
   "outputs": [],
   "source": [
    "titles = [\"PCA\", \"MDS\", \"LLE\", \"Isomap\", \"t-SNE\"]\n",
    "\n",
    "plt.figure(figsize=(21,4))\n",
    "\n",
    "for subplot, title, malware_reduced in zip((151, 152, 153, 154, 155), titles,\n",
    "                                     (malware_pca, malware_mds, malware_isomap, malware_LLE, malware_tsne)):\n",
    "    plt.subplot(subplot)\n",
    "    plt.title(title, fontsize=14)\n",
    "    plt.scatter(malware_reduced[:, 0], malware_reduced[:, 1], c=malware_y_train)\n",
    "    plt.xlabel(\"$z_1$\", fontsize=18)\n",
    "    if subplot == 151:\n",
    "        plt.ylabel(\"$z_2$\", fontsize=18, rotation=0)\n",
    "    plt.grid(True)\n",
    "\n",
    "plt.show()"
   ]
  },
  {
   "cell_type": "markdown",
   "metadata": {},
   "source": [
    "정규화 수행"
   ]
  },
  {
   "cell_type": "code",
   "execution_count": null,
   "metadata": {
    "ExecuteTime": {
     "end_time": "2024-05-08T12:28:42.828842Z",
     "start_time": "2024-05-08T12:28:42.822552Z"
    }
   },
   "outputs": [],
   "source": [
    "# train 데이터를 기반으로 train/test 데이터에 대하여 standard scaling 적용 (평균 0, 분산 1) \n",
    "from sklearn.preprocessing import StandardScaler\n",
    "malware_scaler = StandardScaler()\n",
    "malware_scaler = malware_scaler.fit(malware_X_train)"
   ]
  },
  {
   "cell_type": "code",
   "execution_count": null,
   "metadata": {
    "ExecuteTime": {
     "end_time": "2024-05-08T12:28:42.919453Z",
     "start_time": "2024-05-08T12:28:42.830148Z"
    }
   },
   "outputs": [],
   "source": [
    "malware_X_train_s = pd.DataFrame(malware_scaler.transform(malware_X_train),\n",
    "                                 columns=malware_X_train.columns,\n",
    "                                 index=malware_X_train.index)\n",
    "malware_X_test_s  = pd.DataFrame(malware_scaler.transform(malware_X_test),\n",
    "                                 columns=malware_X_test.columns,\n",
    "                                 index=malware_X_test.index)"
   ]
  },
  {
   "cell_type": "code",
   "execution_count": null,
   "metadata": {
    "ExecuteTime": {
     "end_time": "2024-05-08T12:37:13.575918Z",
     "start_time": "2024-05-08T12:28:42.922326Z"
    }
   },
   "outputs": [],
   "source": [
    "#malware 데이터 셋 차원 축소 결과, 정규화O\n",
    "malware_pca = PCA(n_components=2).fit_transform(malware_X_train_s)\n",
    "malware_mds = MDS(n_components=2, random_state=42).fit_transform(malware_X_train_s)\n",
    "malware_isomap = Isomap(n_components=2).fit_transform(malware_X_train_s)\n",
    "malware_LLE = LocallyLinearEmbedding(n_components=2, eigen_solver='dense').fit_transform(malware_X_train_s)\n",
    "malware_tsne = TSNE(n_components = 2, random_state=42).fit_transform(malware_X_train_s)"
   ]
  },
  {
   "cell_type": "code",
   "execution_count": null,
   "metadata": {
    "ExecuteTime": {
     "end_time": "2024-05-08T12:37:14.204840Z",
     "start_time": "2024-05-08T12:37:13.577533Z"
    }
   },
   "outputs": [],
   "source": [
    "titles = [\"PCA\", \"MDS\", \"LLE\", \"Isomap\", \"t-SNE\"]\n",
    "\n",
    "plt.figure(figsize=(21,4))\n",
    "\n",
    "for subplot, title, malware_reduced in zip((151, 152, 153, 154, 155), titles,\n",
    "                                     (malware_pca, malware_mds, malware_isomap, malware_LLE, malware_tsne)):\n",
    "    plt.subplot(subplot)\n",
    "    plt.title(title, fontsize=14)\n",
    "    plt.scatter(malware_reduced[:, 0], malware_reduced[:, 1], c=malware_y_train)\n",
    "    plt.xlabel(\"$z_1$\", fontsize=18)\n",
    "    if subplot == 151:\n",
    "        plt.ylabel(\"$z_2$\", fontsize=18, rotation=0)\n",
    "    plt.grid(True)\n",
    "\n",
    "plt.show()"
   ]
  },
  {
   "cell_type": "markdown",
   "metadata": {},
   "source": [
    "#### STEP 3.2. 3차원 산포 비교"
   ]
  },
  {
   "cell_type": "code",
   "execution_count": null,
   "metadata": {
    "ExecuteTime": {
     "end_time": "2024-05-08T12:40:05.880513Z",
     "start_time": "2024-05-08T12:40:05.871985Z"
    }
   },
   "outputs": [],
   "source": [
    "# ! pip install ipympl\n",
    "from mpl_toolkits.mplot3d import Axes3D\n",
    "# %matplotlib inline\n",
    "# %matplotlib notebook\n",
    "%matplotlib widget\n",
    "\n",
    "from google.colab import output\n",
    "output.enable_custom_widget_manager()"
   ]
  },
  {
   "cell_type": "code",
   "execution_count": null,
   "metadata": {
    "ExecuteTime": {
     "end_time": "2024-05-08T12:37:14.442656Z",
     "start_time": "2024-05-08T12:37:14.218689Z"
    }
   },
   "outputs": [],
   "source": [
    "#malware 데이터 셋 PCA 결과, 정규화O\n",
    "malware_pc = PCA(n_components=3).fit_transform(malware_X_train_s)"
   ]
  },
  {
   "cell_type": "code",
   "execution_count": null,
   "metadata": {
    "ExecuteTime": {
     "end_time": "2024-05-08T12:40:08.105940Z",
     "start_time": "2024-05-08T12:40:07.894115Z"
    }
   },
   "outputs": [],
   "source": [
    "fig = plt.figure(figsize=(9, 12))\n",
    "ax = fig.add_subplot(111, projection='3d')\n",
    "plt.scatter(malware_pc[malware_y_train==0, 0], \n",
    "            malware_pc[malware_y_train==0, 1], \n",
    "            malware_pc[malware_y_train==0, 2],\n",
    "            c='blue', label='0')\n",
    "plt.scatter(malware_pc[malware_y_train==1, 0], \n",
    "            malware_pc[malware_y_train==1, 1],\n",
    "            malware_pc[malware_y_train==1, 2],\n",
    "            c='orange', label='1')\n",
    "ax.set_xlabel('component 0')\n",
    "ax.set_ylabel('component 1')\n",
    "ax.set_zlabel('component 2')\n",
    "ax.set_xlim([-5, 5])\n",
    "ax.set_ylim([-5, 10])\n",
    "ax.set_zlim([-0.05, 0])\n",
    "plt.legend()\n",
    "plt.show()"
   ]
  },
  {
   "cell_type": "code",
   "execution_count": null,
   "metadata": {
    "ExecuteTime": {
     "end_time": "2024-05-08T12:37:30.218819Z",
     "start_time": "2024-05-08T12:37:14.550473Z"
    }
   },
   "outputs": [],
   "source": [
    "malware_tsne = TSNE(n_components = 3, random_state=42).fit_transform(malware_X_train_s)"
   ]
  },
  {
   "cell_type": "code",
   "execution_count": null,
   "metadata": {
    "ExecuteTime": {
     "end_time": "2024-05-08T12:40:12.407206Z",
     "start_time": "2024-05-08T12:40:12.187201Z"
    }
   },
   "outputs": [],
   "source": [
    "fig = plt.figure(figsize=(9, 12))\n",
    "ax = fig.add_subplot(111, projection='3d')\n",
    "ax.scatter(malware_tsne[malware_y_train==0, 0], \n",
    "            malware_tsne[malware_y_train==0, 1], \n",
    "            malware_tsne[malware_y_train==0, 2],\n",
    "            c='blue', label='0')\n",
    "ax.scatter(malware_tsne[malware_y_train==1, 0], \n",
    "            malware_tsne[malware_y_train==1, 1],\n",
    "            malware_tsne[malware_y_train==1, 2],\n",
    "            c='orange', label='1')\n",
    "plt.xlabel('component 0')\n",
    "plt.ylabel('component 1')\n",
    "plt.legend()\n",
    "plt.show()"
   ]
  },
  {
   "cell_type": "markdown",
   "metadata": {},
   "source": [
    "### STEP 4. PCA Variable Extraction\n",
    "- PCA를 활용하여 variable extraction을 진행한 후 분류 모델을 학습함\n",
    "- 기존 분류 모델과의 성능 비교를 통해 PCA variable extracion 효과를 확인함"
   ]
  },
  {
   "cell_type": "code",
   "execution_count": null,
   "metadata": {
    "ExecuteTime": {
     "end_time": "2024-05-08T12:37:30.330978Z",
     "start_time": "2024-05-08T12:37:30.269881Z"
    }
   },
   "outputs": [],
   "source": [
    "from sklearn.ensemble import RandomForestClassifier"
   ]
  },
  {
   "cell_type": "code",
   "execution_count": null,
   "metadata": {
    "ExecuteTime": {
     "end_time": "2024-05-08T12:37:31.184635Z",
     "start_time": "2024-05-08T12:37:30.333851Z"
    }
   },
   "outputs": [],
   "source": [
    "# malware 데이터\n",
    "malware_ranfo = RandomForestClassifier(n_estimators=100,n_jobs=-1,max_depth=10)\n",
    "malware_ranfo.fit(malware_X_train, malware_y_train)\n",
    "\n",
    "malware_pred_train = malware_ranfo.predict(malware_X_train)\n",
    "malware_pred_test  = malware_ranfo.predict(malware_X_test)\n",
    "malware_acc_train  = np.sum(malware_pred_train==malware_y_train)/len(malware_y_train)\n",
    "malware_acc_test   = np.sum(malware_pred_test==malware_y_test)/len(malware_y_test)"
   ]
  },
  {
   "cell_type": "code",
   "execution_count": null,
   "metadata": {
    "ExecuteTime": {
     "end_time": "2024-05-08T12:37:31.194024Z",
     "start_time": "2024-05-08T12:37:31.188182Z"
    },
    "scrolled": true
   },
   "outputs": [],
   "source": [
    "print(\"malware_train ACC:\", malware_acc_train)\n",
    "print(\"malware_test ACC:\", malware_acc_test)"
   ]
  },
  {
   "cell_type": "code",
   "execution_count": null,
   "metadata": {
    "ExecuteTime": {
     "end_time": "2024-05-08T12:37:31.368529Z",
     "start_time": "2024-05-08T12:37:31.196975Z"
    }
   },
   "outputs": [],
   "source": [
    "pca = PCA().fit(malware_X_train_s)\n",
    "plt.plot(np.cumsum(pca.explained_variance_ratio_))\n",
    "plt.xlabel('number of components')\n",
    "plt.ylabel('cumulative explained variance');"
   ]
  },
  {
   "cell_type": "code",
   "execution_count": null,
   "metadata": {
    "ExecuteTime": {
     "end_time": "2024-05-08T12:37:32.256056Z",
     "start_time": "2024-05-08T12:37:31.369678Z"
    }
   },
   "outputs": [],
   "source": [
    "#malware 데이터 셋 PCA 결과, 정규화O\n",
    "pca = PCA(n_components=30)\n",
    "malware_X_train_new = pca.fit_transform(malware_X_train_s)\n",
    "malware_X_test_new  = pca.transform(malware_X_test_s)\n",
    "\n",
    "malware_ranfo_new = RandomForestClassifier(n_estimators=100,n_jobs=-1,max_depth=15)\n",
    "malware_ranfo_new.fit(malware_X_train_new, malware_y_train)\n",
    "\n",
    "malware_pred_train_new = malware_ranfo_new.predict(malware_X_train_new)\n",
    "malware_pred_test_new  = malware_ranfo_new.predict(malware_X_test_new)\n",
    "malware_acc_train_new  = np.sum(malware_pred_train_new==malware_y_train)/len(malware_y_train)\n",
    "malware_acc_test_new   = np.sum(malware_pred_test_new==malware_y_test)/len(malware_y_test)"
   ]
  },
  {
   "cell_type": "code",
   "execution_count": null,
   "metadata": {
    "ExecuteTime": {
     "end_time": "2024-05-08T12:37:32.266848Z",
     "start_time": "2024-05-08T12:37:32.259796Z"
    }
   },
   "outputs": [],
   "source": [
    "print(\"malware_train ACC:\", malware_acc_train_new)\n",
    "print(\"malware_test ACC:\", malware_acc_test_new)"
   ]
  },
  {
   "cell_type": "markdown",
   "metadata": {},
   "source": [
    "---"
   ]
  }
 ],
 "metadata": {
  "hide_input": false,
  "kernelspec": {
   "display_name": "Python 3",
   "language": "python",
   "name": "python3"
  },
  "language_info": {
   "codemirror_mode": {
    "name": "ipython",
    "version": 3
   },
   "file_extension": ".py",
   "mimetype": "text/x-python",
   "name": "python",
   "nbconvert_exporter": "python",
   "pygments_lexer": "ipython3",
   "version": "3.6.9"
  },
  "latex_envs": {
   "LaTeX_envs_menu_present": true,
   "autoclose": false,
   "autocomplete": true,
   "bibliofile": "biblio.bib",
   "cite_by": "apalike",
   "current_citInitial": 1,
   "eqLabelWithNumbers": true,
   "eqNumInitial": 1,
   "hotkeys": {
    "equation": "Ctrl-E",
    "itemize": "Ctrl-I"
   },
   "labels_anchors": false,
   "latex_user_defs": false,
   "report_style_numbering": false,
   "user_envs_cfg": false
  },
  "nbTranslate": {
   "displayLangs": [
    "ko",
    "en"
   ],
   "hotkey": "alt-t",
   "langInMainMenu": true,
   "sourceLang": "en",
   "targetLang": "ko",
   "useGoogleTranslate": true
  },
  "toc": {
   "base_numbering": 1,
   "nav_menu": {},
   "number_sections": true,
   "sideBar": true,
   "skip_h1_title": false,
   "title_cell": "Table of Contents",
   "title_sidebar": "Contents",
   "toc_cell": false,
   "toc_position": {
    "height": "calc(100% - 180px)",
    "left": "10px",
    "top": "150px",
    "width": "252px"
   },
   "toc_section_display": true,
   "toc_window_display": true
  },
  "varInspector": {
   "cols": {
    "lenName": 16,
    "lenType": 16,
    "lenVar": 40
   },
   "kernels_config": {
    "python": {
     "delete_cmd_postfix": "",
     "delete_cmd_prefix": "del ",
     "library": "var_list.py",
     "varRefreshCmd": "print(var_dic_list())"
    },
    "r": {
     "delete_cmd_postfix": ") ",
     "delete_cmd_prefix": "rm(",
     "library": "var_list.r",
     "varRefreshCmd": "cat(var_dic_list()) "
    }
   },
   "types_to_exclude": [
    "module",
    "function",
    "builtin_function_or_method",
    "instance",
    "_Feature"
   ],
   "window_display": false
  }
 },
 "nbformat": 4,
 "nbformat_minor": 2
}
