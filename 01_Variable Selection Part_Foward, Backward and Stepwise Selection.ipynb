{
 "cells": [
  {
   "cell_type": "markdown",
   "metadata": {},
   "source": [
    "# [ LG전자_DIC ] 변수선택 및 차원 축소"
   ]
  },
  {
   "cell_type": "markdown",
   "metadata": {},
   "source": [
    "## 전진선택, 후방소거, 단계적 선택법"
   ]
  },
  {
   "cell_type": "markdown",
   "metadata": {},
   "source": [
    "### 강의 복습\n",
    "강의자료 : 변수선택 및 차원 축소, 01 전진선택, 후방소거, 단계적 선택법\n",
    "\n",
    "- 전진 선택법 : 설명변수가 하나도 없는 모델에서부터 시작하여 가장 유의미한 변수를 하나씩 추가해 나가는 방법\n",
    "- 후방 소거법 : 모든 변수를 사용하여 구축한 모델에서 유의미하지 않은 변수를 하나씩 제거해 나가는 방법\n",
    "- 단계적 선택법 : 전진 선택법과 후진 소거법을 번갈아 가면서 수행하는 변수 선택 기법"
   ]
  },
  {
   "cell_type": "markdown",
   "metadata": {},
   "source": [
    "### 실습 요약\n",
    "1. 본 실습에서는 전진선택, 후방소거, 단계적 선택법을 통해 변수를 선택하여 차원 축소를 진행합니다.\n",
    "2. 분류 과업을 위해 선형 회귀 모델과 로지스틱 모델을 통해 각 선택법에 따른 성능 차이를 확인합니다."
   ]
  },
  {
   "cell_type": "markdown",
   "metadata": {},
   "source": [
    "---"
   ]
  },
  {
   "cell_type": "markdown",
   "metadata": {},
   "source": [
    "### STEP 1. 데이터 준비하기"
   ]
  },
  {
   "cell_type": "markdown",
   "metadata": {},
   "source": [
    "금일 실습에서는 Malwares Classification 데이터셋을 사용합니다.\n",
    "- Malware를 분류하는 것을 목적으로 하는 데이터 셋\n",
    "- 총 68개의 독립 변수를 통해 종속 변수(Not Malware=0, Malware=1)를 예측해야 함"
   ]
  },
  {
   "cell_type": "code",
   "execution_count": null,
   "metadata": {
    "ExecuteTime": {
     "end_time": "2023-06-28T17:19:10.546998Z",
     "start_time": "2023-06-28T17:19:10.543014Z"
    }
   },
   "outputs": [],
   "source": [
    "# github에서 데이터 불러오기\n",
    "# !git clone https://github.com/hwk0702/2024_LGE_TSVisulaization.git\n",
    "# %cd 2024_LGE_TSVisulaization"
   ]
  },
  {
   "cell_type": "code",
   "execution_count": null,
   "metadata": {
    "ExecuteTime": {
     "end_time": "2023-06-28T17:19:10.925048Z",
     "start_time": "2023-06-28T17:19:10.557107Z"
    }
   },
   "outputs": [],
   "source": [
    "import numpy as np\n",
    "import pandas as pd\n",
    "data = pd.read_csv('./data/Malwares Classification.csv')"
   ]
  },
  {
   "cell_type": "code",
   "execution_count": null,
   "metadata": {
    "ExecuteTime": {
     "end_time": "2023-06-28T17:19:10.964896Z",
     "start_time": "2023-06-28T17:19:10.928719Z"
    }
   },
   "outputs": [],
   "source": [
    "data.head()"
   ]
  },
  {
   "cell_type": "code",
   "execution_count": null,
   "metadata": {
    "ExecuteTime": {
     "end_time": "2023-06-28T17:19:11.064184Z",
     "start_time": "2023-06-28T17:19:10.966618Z"
    }
   },
   "outputs": [],
   "source": [
    "print(data.columns)"
   ]
  },
  {
   "cell_type": "code",
   "execution_count": null,
   "metadata": {
    "ExecuteTime": {
     "end_time": "2023-06-28T17:19:11.152942Z",
     "start_time": "2023-06-28T17:19:11.067798Z"
    }
   },
   "outputs": [],
   "source": [
    "# Label 분리 및 불필요한 변수 제거\n",
    "data = data.dropna(axis=0)\n",
    "labels = data.loc[:,'class']\n",
    "X_data = data.drop('class',axis=1)"
   ]
  },
  {
   "cell_type": "markdown",
   "metadata": {},
   "source": [
    "### STEP 2. 데이터 전처리\n",
    "- 무작위 추출 방식을 활용하여 전체 데이터 셋을 Train, Validation, Test로 구분함"
   ]
  },
  {
   "cell_type": "code",
   "execution_count": null,
   "metadata": {
    "ExecuteTime": {
     "end_time": "2023-06-28T17:19:11.669982Z",
     "start_time": "2023-06-28T17:19:11.156343Z"
    }
   },
   "outputs": [],
   "source": [
    "from sklearn.model_selection import train_test_split"
   ]
  },
  {
   "cell_type": "code",
   "execution_count": null,
   "metadata": {
    "ExecuteTime": {
     "end_time": "2023-06-28T17:19:11.679693Z",
     "start_time": "2023-06-28T17:19:11.671564Z"
    }
   },
   "outputs": [],
   "source": [
    "X_train, X_test, y_train, y_test = train_test_split(X_data, labels, test_size=0.2, random_state=42)\n",
    "X_val, X_test, y_val, y_test = train_test_split(X_test, y_test, test_size=0.5, random_state=42)"
   ]
  },
  {
   "cell_type": "code",
   "execution_count": null,
   "metadata": {
    "ExecuteTime": {
     "end_time": "2023-06-28T17:19:11.776327Z",
     "start_time": "2023-06-28T17:19:11.681063Z"
    }
   },
   "outputs": [],
   "source": [
    "from sklearn.preprocessing import StandardScaler\n",
    "# train 데이터를 기반으로 train/test 데이터에 대하여 standard scaling 적용 (평균 0, 분산 1) \n",
    "scaler = StandardScaler()\n",
    "scaler = scaler.fit(X_train)"
   ]
  },
  {
   "cell_type": "code",
   "execution_count": null,
   "metadata": {
    "ExecuteTime": {
     "end_time": "2023-06-28T17:19:11.859731Z",
     "start_time": "2023-06-28T17:19:11.780117Z"
    }
   },
   "outputs": [],
   "source": [
    "X_train = pd.DataFrame(scaler.transform(X_train), columns=X_train.columns, index=X_train.index)\n",
    "X_val   = pd.DataFrame(scaler.transform(X_val), columns=X_val.columns, index=X_val.index)\n",
    "X_test  = pd.DataFrame(scaler.transform(X_test), columns=X_test.columns, index=X_test.index)"
   ]
  },
  {
   "cell_type": "code",
   "execution_count": null,
   "metadata": {
    "ExecuteTime": {
     "end_time": "2023-06-28T17:19:11.938361Z",
     "start_time": "2023-06-28T17:19:11.862542Z"
    }
   },
   "outputs": [],
   "source": [
    "print(\"정규화 후 평균:\", np.mean(X_train.iloc[:,5]))\n",
    "print(\"정규화 후 분산:\", np.var(X_train.iloc[:,5]))"
   ]
  },
  {
   "cell_type": "markdown",
   "metadata": {},
   "source": [
    "### STEP 3. 단순 모델 학습 및 평가\n",
    "- 변수 선택법을 적용하지 않았을 때, 선형 회귀 모델과 로지스틱 회귀 모델을 학습하고 그 성능을 평가함"
   ]
  },
  {
   "cell_type": "code",
   "execution_count": null,
   "metadata": {
    "ExecuteTime": {
     "end_time": "2023-06-28T17:19:12.062301Z",
     "start_time": "2023-06-28T17:19:11.941302Z"
    }
   },
   "outputs": [],
   "source": [
    "from sklearn.linear_model import LinearRegression, LogisticRegression"
   ]
  },
  {
   "cell_type": "code",
   "execution_count": null,
   "metadata": {
    "ExecuteTime": {
     "end_time": "2023-06-28T17:19:12.159097Z",
     "start_time": "2023-06-28T17:19:12.064795Z"
    },
    "scrolled": true
   },
   "outputs": [],
   "source": [
    "# 선형 회귀 학습\n",
    "line_fitter = LinearRegression()\n",
    "line_fitter.fit(X_train, y_train)"
   ]
  },
  {
   "cell_type": "code",
   "execution_count": null,
   "metadata": {
    "ExecuteTime": {
     "end_time": "2023-06-28T17:19:12.328326Z",
     "start_time": "2023-06-28T17:19:12.161714Z"
    }
   },
   "outputs": [],
   "source": [
    "# 로지스틱 회귀 학습\n",
    "logistic_fitter = LogisticRegression(solver=\"lbfgs\")\n",
    "logistic_fitter.fit(X_train, y_train)"
   ]
  },
  {
   "cell_type": "code",
   "execution_count": null,
   "metadata": {
    "ExecuteTime": {
     "end_time": "2023-06-28T17:19:12.348751Z",
     "start_time": "2023-06-28T17:19:12.336075Z"
    }
   },
   "outputs": [],
   "source": [
    "#Accuracy 측정\n",
    "def Acc(pred,label,pri=True):\n",
    "    if pri:\n",
    "        print(\"Accuracy:\",np.round(np.sum(pred==label)/len(label)*100,1),\"%\")\n",
    "    return np.sum(pred==label)/len(label)"
   ]
  },
  {
   "cell_type": "code",
   "execution_count": null,
   "metadata": {
    "ExecuteTime": {
     "end_time": "2023-06-28T17:19:12.428591Z",
     "start_time": "2023-06-28T17:19:12.360608Z"
    }
   },
   "outputs": [],
   "source": [
    "#선형 회귀 모델 예측 결과\n",
    "line_pred_test = line_fitter.predict(X_test)\n",
    "#로지스틱 회귀 모델 예측 결과\n",
    "logistic_pred_test = logistic_fitter.predict(X_test)"
   ]
  },
  {
   "cell_type": "code",
   "execution_count": null,
   "metadata": {
    "ExecuteTime": {
     "end_time": "2023-06-28T17:19:12.505287Z",
     "start_time": "2023-06-28T17:19:12.431802Z"
    },
    "scrolled": false
   },
   "outputs": [],
   "source": [
    "#선형 회귀 성능 평가\n",
    "print(\"선형 회귀 모델\")\n",
    "linear_all = Acc(line_pred_test>0.5,y_test)\n",
    "print(\"로지스틱 회귀 모델\")\n",
    "logistic_all = Acc(logistic_pred_test,y_test)"
   ]
  },
  {
   "cell_type": "code",
   "execution_count": null,
   "metadata": {
    "ExecuteTime": {
     "end_time": "2023-06-28T17:19:12.605569Z",
     "start_time": "2023-06-28T17:19:12.506726Z"
    }
   },
   "outputs": [],
   "source": [
    "#logistic 모델 내장 함수 사용\n",
    "print(logistic_fitter.score(X_train, y_train))\n",
    "print(logistic_fitter.score(X_test, y_test))"
   ]
  },
  {
   "cell_type": "markdown",
   "metadata": {},
   "source": [
    "### STEP 4. 전진 선택법\n",
    "- 변수가 하나도 없는 상태로부터 시작해서 1개씩 변수를 추가하는 기법\n",
    "- 적합도 함수를 활용해 해당 함수 값이 가장 높은 변수를 선택하는 방식\n",
    "- Stopping Criteria를 통해 변수 선택을 중단함\n",
    "    - 변수를 추가하여도 더 이상 성능이 증가하지 않음\n",
    "    - 성능이 기준 이상을 만족\n",
    "    - 변수의 개수가 일정 개수를 초과"
   ]
  },
  {
   "cell_type": "markdown",
   "metadata": {},
   "source": [
    "<img src=\"./image/FowardSelection.png\" width=\"700\">"
   ]
  },
  {
   "cell_type": "code",
   "execution_count": null,
   "metadata": {
    "ExecuteTime": {
     "end_time": "2023-06-28T17:19:12.654176Z",
     "start_time": "2023-06-28T17:19:12.608826Z"
    }
   },
   "outputs": [],
   "source": [
    "def variable_selection(model, X_train, y_train, X_val, y_val, direction, threshold=0.5):\n",
    "    var = list(range(len(X_train.columns)))\n",
    "    current_score, best_new_score = 0.0, 0.0\n",
    "    if direction == \"forward\":\n",
    "        inmodel  =[]    # 선택된 변수가 담길 리스트\n",
    "        outmodel = var    # 그 외 변수들\n",
    "        while outmodel and current_score==best_new_score:\n",
    "            score_candidate = []    # 점수 후보군\n",
    "            for candidate in outmodel:\n",
    "                temp_var = inmodel + [candidate]\n",
    "                Temp_X_train = X_train.iloc[:, temp_var]\n",
    "                Temp_X_val   = X_val.iloc[:, temp_var]\n",
    "                model.fit(Temp_X_train,y_train)\n",
    "                prediction = model.predict(Temp_X_val)\n",
    "                score = Acc(prediction>=threshold, y_val,pri=False)\n",
    "                score_candidate.append((score, candidate))    # 점수와 선택된 변수들 후보\n",
    "              \n",
    "            score_candidate.sort()    # 가장 좋은 성능 기준으로 정렬\n",
    "            best_new_score, best_candidate = score_candidate.pop()\n",
    "            if current_score>=best_new_score:\n",
    "            #if current_score>=best_new_score and len(inmodel)>=15:\n",
    "            #if current_score>=best_new_score and best_new_score>=0.943:\n",
    "            #if current_score>=best_new_score or len(inmodel)==5:\n",
    "                print(\"Finish:\", inmodel)\n",
    "                break\n",
    "            else:\n",
    "                outmodel.remove(best_candidate)\n",
    "                inmodel.append(best_candidate)\n",
    "                current_score = best_new_score\n",
    "            \n",
    "            print(inmodel)\n",
    "            \n",
    "        Temp_X_train = X_train.iloc[:, inmodel]\n",
    "        Temp_X_val   = X_val.iloc[:, inmodel]\n",
    "        model.fit(Temp_X_train, y_train)\n",
    "        prediction = model.predict(Temp_X_val)\n",
    "        score = Acc(prediction>=threshold, y_val, pri=False)\n",
    "        print(\"Best Validation Acc:\", round(score*100,1), \"%\")\n",
    "        print(\"선택된 변수의 개수:\", len(inmodel), \"개\")\n",
    "        \n",
    "        return model, inmodel"
   ]
  },
  {
   "cell_type": "code",
   "execution_count": null,
   "metadata": {
    "ExecuteTime": {
     "end_time": "2023-06-28T17:19:14.669896Z",
     "start_time": "2023-06-28T17:19:12.660936Z"
    },
    "scrolled": true
   },
   "outputs": [],
   "source": [
    "#선형 회귀 모델에 대한 전진 선택법 적용 결과\n",
    "model, inmodel = variable_selection(LinearRegression(), X_train, y_train, X_val, y_val, direction=\"forward\")"
   ]
  },
  {
   "cell_type": "code",
   "execution_count": null,
   "metadata": {
    "ExecuteTime": {
     "end_time": "2023-06-28T17:19:14.680113Z",
     "start_time": "2023-06-28T17:19:14.671260Z"
    }
   },
   "outputs": [],
   "source": [
    "#선형 회귀 모델 전진 선택법 적용시 평가 데이터 셋에 대한 결과 확인\n",
    "pred_test = model.predict(X_test.iloc[:, inmodel])\n",
    "print(\"선형 회귀 모델-전진 선택법\")\n",
    "linear_forward = Acc(pred_test>0.5, y_test)\n",
    "print(\"선택된 변수 개수:\", len(inmodel))\n",
    "print(\"Acc 증감:\", round((linear_forward-linear_all)*100,1), \"%\")"
   ]
  },
  {
   "cell_type": "code",
   "execution_count": null,
   "metadata": {
    "ExecuteTime": {
     "end_time": "2023-06-28T17:19:50.773959Z",
     "start_time": "2023-06-28T17:19:14.683182Z"
    }
   },
   "outputs": [],
   "source": [
    "#로지스틱 회귀 모델에 대한 전진 선택법 적용 결과\n",
    "model, inmodel = variable_selection(LogisticRegression(solver=\"lbfgs\"), \n",
    "                                    X_train, y_train, X_val, y_val, direction=\"forward\")"
   ]
  },
  {
   "cell_type": "code",
   "execution_count": null,
   "metadata": {
    "ExecuteTime": {
     "end_time": "2023-06-28T17:19:50.805774Z",
     "start_time": "2023-06-28T17:19:50.777273Z"
    }
   },
   "outputs": [],
   "source": [
    "#로지스틱 회귀 모델 전진 선택법 적용시 평가 데이터 셋에 대한 결과 확인\n",
    "pred_test = model.predict(X_test.iloc[:, inmodel])\n",
    "print(\"로지스틱 회귀 모델-전진 선택법\")\n",
    "logistic_forward = Acc(pred_test, y_test)\n",
    "print(\"선택된 변수 개수:\", len(inmodel))\n",
    "print(\"Acc 증감:\", round((logistic_forward-logistic_all)*100, 1), \"%\")"
   ]
  },
  {
   "cell_type": "markdown",
   "metadata": {},
   "source": [
    "### STEP 5. 후진 소거법\n",
    "- 전체 변수로부터 시작해서 하나씩 변수를 제거하는 방식\n",
    "- 적합도 함수를 활용해 해당 함수 값이 가장 높은 변수를 제거하는 방식\n",
    "- Stopping Criteria를 통해 변수 선택을 중단함\n",
    "    - 변수를 제거하여도 더 이상 증가하지 않음\n",
    "    - 변수의 개수가 일정 개수 이하여야 stop 가능"
   ]
  },
  {
   "cell_type": "markdown",
   "metadata": {},
   "source": [
    "<img src=\"./image/BackwardElimination.png\" width=\"700\">"
   ]
  },
  {
   "cell_type": "code",
   "execution_count": null,
   "metadata": {
    "ExecuteTime": {
     "end_time": "2023-06-28T17:19:50.934962Z",
     "start_time": "2023-06-28T17:19:50.814260Z"
    }
   },
   "outputs": [],
   "source": [
    "def variable_selection(model, X_train, y_train, X_val, y_val, direction, threshold=0.5):\n",
    "    var = list(range(len(X_train.columns)))\n",
    "    current_score, best_new_score = 0.0, 0.0\n",
    "    if direction == \"backward\":\n",
    "        inmodel  = var    # 선택되지 않은 변수들\n",
    "        outmodel = []    # 선택된 변수들\n",
    "        while inmodel and current_score==best_new_score:\n",
    "            score_candidate = []    # 점수 후보군\n",
    "            for candidate in inmodel:\n",
    "                temp_var = inmodel.copy()\n",
    "                temp_var.remove(candidate)\n",
    "                Temp_X_train = X_train.iloc[:, temp_var]\n",
    "                Temp_X_val   = X_val.iloc[:, temp_var]\n",
    "                model.fit(Temp_X_train,y_train)\n",
    "                prediction = model.predict(Temp_X_val)\n",
    "                score = Acc(prediction>=threshold, y_val,pri=False)\n",
    "                score_candidate.append((score, candidate))    # 점수와 선택된 변수들 후보\n",
    "              \n",
    "            score_candidate.sort()    # 가장 좋은 성능 기준으로 정렬\n",
    "            best_new_score, best_candidate = score_candidate.pop()\n",
    "            \n",
    "            if current_score>=best_new_score:\n",
    "            #if current_score>=best_new_score and len(inmodel)>=15:\n",
    "            #if current_score>=best_new_score and best_new_score>=0.943:\n",
    "            #if current_score>=best_new_score or len(inmodel)==5:\n",
    "                print(\"Finish:\", inmodel)\n",
    "                break\n",
    "            else:\n",
    "                outmodel.append(best_candidate)\n",
    "                inmodel.remove(best_candidate)\n",
    "                current_score = best_new_score\n",
    "                \n",
    "            print(inmodel)\n",
    "            \n",
    "        Temp_X_train = X_train.iloc[:, inmodel]\n",
    "        Temp_X_val   = X_val.iloc[:, inmodel]\n",
    "        model.fit(Temp_X_train, y_train)\n",
    "        prediction = model.predict(Temp_X_val)\n",
    "        score = Acc(prediction>=threshold, y_val, pri=False)\n",
    "        print(\"Best Validation Acc:\", round(score*100, 1), \"%\")\n",
    "        print(\"선택된 변수의 개수:\", len(inmodel), \"개\")\n",
    "        \n",
    "        return model, inmodel"
   ]
  },
  {
   "cell_type": "code",
   "execution_count": null,
   "metadata": {
    "ExecuteTime": {
     "end_time": "2023-06-28T17:20:39.166466Z",
     "start_time": "2023-06-28T17:19:50.939453Z"
    }
   },
   "outputs": [],
   "source": [
    "#선형 회귀 모델에 대한 후진 소거법 적용 결과\n",
    "model, inmodel = variable_selection(LinearRegression(), X_train, y_train, X_val, y_val, direction=\"backward\")"
   ]
  },
  {
   "cell_type": "code",
   "execution_count": null,
   "metadata": {
    "ExecuteTime": {
     "end_time": "2023-06-28T17:20:39.244790Z",
     "start_time": "2023-06-28T17:20:39.195009Z"
    }
   },
   "outputs": [],
   "source": [
    "#선형 회귀 모델 후진 소거법 적용시 평가 데이터 셋에 대한 결과 확인\n",
    "pred_test = model.predict(X_test.iloc[:, inmodel])\n",
    "print(\"선형 회귀 모델-후진 소거법\")\n",
    "linear_backward = Acc(pred_test>0.5, y_test)\n",
    "print(\"선택된 변수 개수:\", len(inmodel))\n",
    "print(\"Acc 증감:\", round((linear_backward-linear_all)*100, 1), \"%\")"
   ]
  },
  {
   "cell_type": "code",
   "execution_count": null,
   "metadata": {
    "ExecuteTime": {
     "end_time": "2023-06-28T17:23:15.445327Z",
     "start_time": "2023-06-28T17:20:39.253247Z"
    }
   },
   "outputs": [],
   "source": [
    "#로지스틱 회귀 모델에 대한 전진 선택법 적용 결과\n",
    "model, inmodel = variable_selection(LogisticRegression(solver=\"lbfgs\",max_iter=300), \n",
    "                                    X_train, y_train, X_val, y_val, direction=\"backward\")"
   ]
  },
  {
   "cell_type": "code",
   "execution_count": null,
   "metadata": {
    "ExecuteTime": {
     "end_time": "2023-06-28T17:23:15.472006Z",
     "start_time": "2023-06-28T17:23:15.451272Z"
    }
   },
   "outputs": [],
   "source": [
    "#로지스틱 회귀 모델 후진 소거법 적용시 평가 데이터 셋에 대한 결과 확인\n",
    "pred_test = model.predict(X_test.iloc[:, inmodel])\n",
    "print(\"로지스틱 회귀 모델-후진 소거법\")\n",
    "logistic_backward = Acc(pred_test, y_test)\n",
    "print(\"선택된 변수 개수:\", len(inmodel))\n",
    "print(\"Acc 증감:\", round((logistic_backward-logistic_all)*100, 1), \"%\")"
   ]
  },
  {
   "cell_type": "markdown",
   "metadata": {},
   "source": [
    "### STEP 6. 단계적 선택법\n",
    "- 전진 선택법과 마찬가지로 변수가 하나도 없는 상태에서 시작\n",
    "- 전진 선택법과 후진 선택법을 모두 적용하여 적합도 함수를 계산함\n",
    "- 적합도 함수가 가장 높은 경우로 변수 선택 or 제거를 진행함\n",
    "- Stopping Criteria를 통해 변수 선택을 중단함\n",
    "    - 변수를 추가하거나 제거하여도 더 이상 성능이 증가하지 않음\n",
    "    - 성능이 기준 이상을 만족\n",
    "    - 변수의 개수가 일정 개수를 초과"
   ]
  },
  {
   "cell_type": "markdown",
   "metadata": {},
   "source": [
    "<img src=\"./image/StepwiseSelection.png\" width=\"700\">"
   ]
  },
  {
   "cell_type": "code",
   "execution_count": null,
   "metadata": {
    "ExecuteTime": {
     "end_time": "2023-06-28T17:23:15.592750Z",
     "start_time": "2023-06-28T17:23:15.474213Z"
    }
   },
   "outputs": [],
   "source": [
    "def variable_selection(model, X_train, y_train, X_val, y_val, direction, threshold=0.5):\n",
    "    var = list(range(len(X_train.columns)))\n",
    "    current_score, best_new_score = 0.0, 0.0\n",
    "    if direction == \"step\":\n",
    "        inmodel  =[]\n",
    "        outmodel = var\n",
    "        stop = 0\n",
    "        count = 0\n",
    "        forward = 0\n",
    "        backward = 0\n",
    "        while outmodel and stop<2:\n",
    "            score_candidate = []\n",
    "            count=count+1\n",
    "            if count%2==1 or count==2:\n",
    "                for candidate in outmodel:\n",
    "                    temp_var = inmodel + [candidate]\n",
    "                    Temp_X_train = X_train.iloc[:, temp_var]\n",
    "                    Temp_X_val   = X_val.iloc[:, temp_var]\n",
    "                    model.fit(Temp_X_train,y_train)\n",
    "                    prediction = model.predict(Temp_X_val)\n",
    "                    score = Acc(prediction>=threshold, y_val,pri=False)\n",
    "                    score_candidate.append((score, candidate))\n",
    "              \n",
    "                score_candidate.sort()\n",
    "                best_new_score, best_candidate = score_candidate.pop()\n",
    "                if current_score<best_new_score:\n",
    "                    print(\"success forward\")\n",
    "                    outmodel.remove(best_candidate)\n",
    "                    inmodel.append(best_candidate)\n",
    "                    current_score = best_new_score\n",
    "                    stop=0\n",
    "                    forward = forward+1\n",
    "                else:\n",
    "                    print(\"fails forward\")\n",
    "                    stop=stop+1\n",
    "            else:\n",
    "                for candidate in inmodel:\n",
    "                    temp_var = inmodel.copy()\n",
    "                    temp_var.remove(candidate)\n",
    "                    Temp_X_train = X_train.iloc[:, temp_var]\n",
    "                    Temp_X_val   = X_val.iloc[:, temp_var]\n",
    "                    model.fit(Temp_X_train, y_train)\n",
    "                    prediction = model.predict(Temp_X_val)\n",
    "                    score = Acc(prediction>=threshold, y_val, pri=False)\n",
    "                    score_candidate.append((score, candidate))\n",
    "                \n",
    "                score_candidate.sort()\n",
    "                best_new_score, best_candidate = score_candidate.pop()\n",
    "                    \n",
    "                if current_score<best_new_score:\n",
    "                    print(\"success backward\")\n",
    "                    outmodel.append(best_candidate)\n",
    "                    inmodel.remove(best_candidate)\n",
    "                    current_score = best_new_score\n",
    "                    stop=0\n",
    "                    backward = backward+1\n",
    "                else:\n",
    "                    print(\"fails backward\")\n",
    "                    stop=stop+1\n",
    "                \n",
    "            print(inmodel)\n",
    "            \n",
    "        Temp_X_train = X_train.iloc[:, inmodel]\n",
    "        Temp_X_val   = X_val.iloc[:, inmodel]\n",
    "        model.fit(Temp_X_train,y_train)\n",
    "        prediction = model.predict(Temp_X_val)\n",
    "        score = Acc(prediction>= threshold, y_val, pri=False)\n",
    "        print(\"Best Validation Acc:\", round((score)*100, 1), \"%\")\n",
    "        print(\"선택된 변수의 개수:\", len(inmodel), \"개\")\n",
    "        print(\"success forward:\", forward)\n",
    "        print(\"success backward:\", backward)\n",
    "        \n",
    "        return model, inmodel"
   ]
  },
  {
   "cell_type": "code",
   "execution_count": null,
   "metadata": {
    "ExecuteTime": {
     "end_time": "2023-06-28T17:23:20.481630Z",
     "start_time": "2023-06-28T17:23:15.594781Z"
    },
    "scrolled": true
   },
   "outputs": [],
   "source": [
    "#선형 회귀 모델에 대한 단계적 선택법 적용 결과\n",
    "model, inmodel = variable_selection(LinearRegression(), X_train, y_train, X_val, y_val, direction=\"step\")"
   ]
  },
  {
   "cell_type": "code",
   "execution_count": null,
   "metadata": {
    "ExecuteTime": {
     "end_time": "2023-06-28T17:23:20.508345Z",
     "start_time": "2023-06-28T17:23:20.489016Z"
    }
   },
   "outputs": [],
   "source": [
    "#선형 회귀 모델 단계적 선택법 적용시 평가 데이터 셋에 대한 결과 확인\n",
    "pred_test = model.predict(X_test.iloc[:, inmodel])\n",
    "print(\"선형 회귀 모델-단계적 소거법\")\n",
    "linear_step = Acc(pred_test>0.5, y_test)\n",
    "print(\"선택된 변수 개수:\", len(inmodel))\n",
    "print(\"Acc 증감:\", round((linear_step-linear_all)*100, 1), \"%\")"
   ]
  },
  {
   "cell_type": "code",
   "execution_count": null,
   "metadata": {
    "ExecuteTime": {
     "end_time": "2023-06-28T17:23:53.402452Z",
     "start_time": "2023-06-28T17:23:20.511397Z"
    },
    "scrolled": false
   },
   "outputs": [],
   "source": [
    "#로지스틱 회귀 모델에 대한 단계적 선택법 적용 결과\n",
    "model, inmodel = variable_selection(LogisticRegression(solver=\"lbfgs\", max_iter=300), \n",
    "                                    X_train, y_train, X_val, y_val, direction=\"step\")"
   ]
  },
  {
   "cell_type": "code",
   "execution_count": null,
   "metadata": {
    "ExecuteTime": {
     "end_time": "2023-06-28T17:23:53.425662Z",
     "start_time": "2023-06-28T17:23:53.407954Z"
    }
   },
   "outputs": [],
   "source": [
    "#로지스틱 회귀 모델 단계적 선택법 적용시 평가 데이터 셋에 대한 결과 확인\n",
    "pred_test = model.predict(X_test.iloc[:, inmodel])\n",
    "print(\"로지스틱 회귀 모델-단계적 선택법\")\n",
    "logistic_step = Acc(pred_test, y_test)\n",
    "print(\"선택된 변수 개수:\", len(inmodel))\n",
    "print(\"Acc 증감:\", round((logistic_step-logistic_all)*100, 1), \"%\")"
   ]
  },
  {
   "cell_type": "code",
   "execution_count": null,
   "metadata": {
    "ExecuteTime": {
     "end_time": "2023-06-28T17:23:53.538073Z",
     "start_time": "2023-06-28T17:23:53.429003Z"
    }
   },
   "outputs": [],
   "source": [
    "def variable_selection(model, X_train, y_train, X_val, y_val, direction, threshold=0.5):\n",
    "    var = list(range(len(X_train.columns)))\n",
    "    current_score, best_new_score = 0.0, 0.0\n",
    "    if direction == \"step2\":\n",
    "        inmodel  = var\n",
    "        outmodel = []\n",
    "        stop = 0\n",
    "        count = 0\n",
    "        forward = 0\n",
    "        backward = 0\n",
    "        while inmodel and stop<2:\n",
    "            score_candidate = []\n",
    "            count=count+1\n",
    "            if count%2==0 and count!=2:\n",
    "                for candidate in outmodel:\n",
    "                    temp_var = inmodel + [candidate]\n",
    "                    Temp_X_train = X_train.iloc[:, temp_var]\n",
    "                    Temp_X_val   = X_val.iloc[:, temp_var]\n",
    "                    model.fit(Temp_X_train, y_train)\n",
    "                    prediction = model.predict(Temp_X_val)\n",
    "                    score = Acc(prediction>=threshold, y_val, pri=False)\n",
    "                    score_candidate.append((score, candidate))\n",
    "              \n",
    "                score_candidate.sort()\n",
    "                best_new_score, best_candidate = score_candidate.pop()\n",
    "                if current_score<best_new_score:\n",
    "                    print(\"success forward\")\n",
    "                    outmodel.remove(best_candidate)\n",
    "                    inmodel.append(best_candidate)\n",
    "                    current_score = best_new_score\n",
    "                    stop=0\n",
    "                    forward = forward+1\n",
    "                else:\n",
    "                    print(\"falis forward\")\n",
    "                    stop=stop+1\n",
    "            else:\n",
    "                for candidate in inmodel:\n",
    "                    temp_var = inmodel.copy()\n",
    "                    temp_var.remove(candidate)\n",
    "                    Temp_X_train = X_train.iloc[:, temp_var]\n",
    "                    Temp_X_val   = X_val.iloc[:, temp_var]\n",
    "                    model.fit(Temp_X_train, y_train)\n",
    "                    prediction = model.predict(Temp_X_val)\n",
    "                    score = Acc(prediction>=threshold, y_val, pri=False)\n",
    "                    score_candidate.append((score, candidate))\n",
    "                \n",
    "                score_candidate.sort()\n",
    "                best_new_score, best_candidate = score_candidate.pop()\n",
    "                    \n",
    "                if current_score<best_new_score:\n",
    "                    print(\"success backward\")\n",
    "                    outmodel.append(best_candidate)\n",
    "                    inmodel.remove(best_candidate)\n",
    "                    current_score = best_new_score\n",
    "                    stop=0\n",
    "                    backward = backward+1\n",
    "                else:\n",
    "                    print(\"fails backward\")\n",
    "                    stop=stop+1\n",
    "                \n",
    "            print(inmodel)\n",
    "            \n",
    "        Temp_X_train = X_train.iloc[:, inmodel]\n",
    "        Temp_X_val   = X_val.iloc[:, inmodel]\n",
    "        model.fit(Temp_X_train, y_train)\n",
    "        prediction = model.predict(Temp_X_val)\n",
    "        score = Acc(prediction>=threshold, y_val, pri=False)\n",
    "        print(\"Best Validation Acc:\", round((score)*100, 1), \"%\")\n",
    "        print(\"선택된 변수의 개수:\", len(inmodel), \"개\")\n",
    "        print(\"success forward:\", forward)\n",
    "        print(\"success backward:\", backward)\n",
    "        \n",
    "        return model, inmodel"
   ]
  },
  {
   "cell_type": "code",
   "execution_count": null,
   "metadata": {
    "ExecuteTime": {
     "end_time": "2023-06-28T17:24:27.909525Z",
     "start_time": "2023-06-28T17:23:53.540137Z"
    },
    "scrolled": true
   },
   "outputs": [],
   "source": [
    "#선형 회귀 모델에 대한 단계적 선택법2 적용 결과\n",
    "model, inmodel = variable_selection(LinearRegression(), X_train,y_train,X_val,y_val,direction=\"step2\")"
   ]
  },
  {
   "cell_type": "code",
   "execution_count": null,
   "metadata": {
    "ExecuteTime": {
     "end_time": "2023-06-28T17:24:27.961331Z",
     "start_time": "2023-06-28T17:24:27.917277Z"
    }
   },
   "outputs": [],
   "source": [
    "#선형 회귀 모델 단계적 선택법2 적용시 평가 데이터 셋에 대한 결과 확인\n",
    "pred_test = model.predict(X_test.iloc[:,inmodel])\n",
    "print(\"선형 회귀 모델-단계적 선택법2\")\n",
    "linear_step2 = Acc(pred_test>0.5,y_test)\n",
    "print(\"선택된 변수 개수:\", len(inmodel))\n",
    "print(\"Acc 증감:\",round((linear_step2-linear_all),1),\"%\")"
   ]
  },
  {
   "cell_type": "code",
   "execution_count": null,
   "metadata": {
    "ExecuteTime": {
     "end_time": "2023-06-28T17:26:22.723085Z",
     "start_time": "2023-06-28T17:24:27.969764Z"
    },
    "scrolled": true
   },
   "outputs": [],
   "source": [
    "#로지스틱 회귀 모델에 대한 전진 선택법2 적용 결과\n",
    "model, inmodel = variable_selection(LogisticRegression(solver=\"lbfgs\", max_iter=300), \n",
    "                                    X_train, y_train, X_val, y_val, direction=\"step2\")"
   ]
  },
  {
   "cell_type": "code",
   "execution_count": null,
   "metadata": {
    "ExecuteTime": {
     "end_time": "2023-06-28T17:26:22.752913Z",
     "start_time": "2023-06-28T17:26:22.726180Z"
    }
   },
   "outputs": [],
   "source": [
    "#로지스틱 회귀 모델 단계적 선택법2 적용시 평가 데이터 셋에 대한 결과 확인\n",
    "pred_test = model.predict(X_test.iloc[:, inmodel])\n",
    "print(\"로지스틱 회귀 모델-단계적 선택법2\")\n",
    "logistic_step2 = Acc(pred_test, y_test)\n",
    "print(\"선택된 변수 개수:\", len(inmodel))\n",
    "print(\"Acc 증감:\", round((logistic_step2-logistic_all)*100, 1), \"%\")"
   ]
  },
  {
   "cell_type": "markdown",
   "metadata": {},
   "source": [
    "### STEP 7. 변수 선택법 함수"
   ]
  },
  {
   "cell_type": "code",
   "execution_count": null,
   "metadata": {
    "ExecuteTime": {
     "end_time": "2023-06-28T17:26:22.849851Z",
     "start_time": "2023-06-28T17:26:22.758547Z"
    }
   },
   "outputs": [],
   "source": [
    "def variable_selection(model, X_train, y_train, X_val, y_val, direction, threshold=0.5):\n",
    "    var = list(range(len(X_train.columns)))\n",
    "    current_score, best_new_score = 0.0, 0.0\n",
    "    ### 전진 선택법\n",
    "    if direction == \"forward\":\n",
    "        inmodel  =[]\n",
    "        outmodel = var\n",
    "        while outmodel and current_score==best_new_score:\n",
    "            score_candidate = []\n",
    "            for candidate in outmodel:\n",
    "                temp_var = inmodel + [candidate]\n",
    "                Temp_X_train = X_train.iloc[:, temp_var]\n",
    "                Temp_X_val   = X_val.iloc[:, temp_var]\n",
    "                model.fit(Temp_X_train,y_train)\n",
    "                prediction = model.predict(Temp_X_val)\n",
    "                score = Acc(prediction>=threshold, y_val, pri=False)\n",
    "                score_candidate.append((score, candidate))\n",
    "              \n",
    "            score_candidate.sort()\n",
    "            best_new_score, best_candidate = score_candidate.pop()\n",
    "            if current_score>=best_new_score:\n",
    "                print(inmodel)\n",
    "                break\n",
    "            else:\n",
    "                outmodel.remove(best_candidate)\n",
    "                inmodel.append(best_candidate)\n",
    "                current_score = best_new_score\n",
    "            \n",
    "            print(inmodel)\n",
    "            \n",
    "        Temp_X_train = X_train.iloc[:, inmodel]\n",
    "        Temp_X_val   = X_val.iloc[:, inmodel]\n",
    "        model.fit(Temp_X_train, y_train)\n",
    "        prediction = model.predict(Temp_X_val)\n",
    "        score = Acc(prediction>=threshold, y_val, pri=False)\n",
    "        print(\"Best Validation Acc:\", round((score)*100, 1), \"%\")\n",
    "        print(\"선택된 변수의 개수:\", len(inmodel), \"개\")\n",
    "    \n",
    "    ###후진 소거법\n",
    "    if direction == \"backward\":\n",
    "        inmodel  = var\n",
    "        outmodel = []\n",
    "        while inmodel and current_score==best_new_score:\n",
    "            score_candidate = []\n",
    "            for candidate in inmodel:\n",
    "                temp_var = inmodel.copy()\n",
    "                temp_var.remove(candidate)\n",
    "                Temp_X_train = X_train.iloc[:, temp_var]\n",
    "                Temp_X_val   = X_val.iloc[:, temp_var]\n",
    "                model.fit(Temp_X_train,y_train)\n",
    "                prediction = model.predict(Temp_X_val)\n",
    "                score = Acc(prediction>=threshold, y_val, pri=False)\n",
    "                score_candidate.append((score, candidate))\n",
    "              \n",
    "            score_candidate.sort()\n",
    "            best_new_score, best_candidate = score_candidate.pop()\n",
    "            \n",
    "            if current_score>=best_new_score:\n",
    "                print(inmodel)\n",
    "                break\n",
    "            else:\n",
    "                outmodel.append(best_candidate)\n",
    "                inmodel.remove(best_candidate)\n",
    "                current_score = best_new_score\n",
    "                \n",
    "            print(inmodel)\n",
    "            \n",
    "        Temp_X_train = X_train.iloc[:, inmodel]\n",
    "        Temp_X_val   = X_val.iloc[:, inmodel]\n",
    "        model.fit(Temp_X_train, y_train)\n",
    "        prediction = model.predict(Temp_X_val)\n",
    "        score = Acc(prediction>=threshold, y_val, pri=False)\n",
    "        print(\"Best Validation Acc:\", round((score)*100, 1), \"%\")\n",
    "        print(\"선택된 변수의 개수:\", len(inmodel), \"개\")\n",
    "        \n",
    "    ###단계적 선택법\n",
    "    if direction == \"step\":\n",
    "        inmodel  =[]\n",
    "        outmodel = var\n",
    "        stop = 0\n",
    "        count = 0\n",
    "        forward = 0\n",
    "        backward = 0\n",
    "        while outmodel and stop<2:\n",
    "            score_candidate = []\n",
    "            count=count+1\n",
    "            if count%2==1 or count==2:\n",
    "                for candidate in outmodel:\n",
    "                    temp_var = inmodel + [candidate]\n",
    "                    Temp_X_train = X_train.iloc[:, temp_var]\n",
    "                    Temp_X_val   = X_val.iloc[:, temp_var]\n",
    "                    model.fit(Temp_X_train,y_train)\n",
    "                    prediction = model.predict(Temp_X_val)\n",
    "                    score = Acc(prediction>=threshold, y_val, pri=False)\n",
    "                    score_candidate.append((score, candidate))\n",
    "              \n",
    "                score_candidate.sort()\n",
    "                best_new_score, best_candidate = score_candidate.pop()\n",
    "                if current_score<best_new_score:\n",
    "                    print(\"success forward\")\n",
    "                    outmodel.remove(best_candidate)\n",
    "                    inmodel.append(best_candidate)\n",
    "                    current_score = best_new_score\n",
    "                    stop=0\n",
    "                    forward = forward+1\n",
    "                else:\n",
    "                    print(\"falis forward\")\n",
    "                    stop=stop+1\n",
    "            else:\n",
    "                for candidate in inmodel:\n",
    "                    temp_var = inmodel.copy()\n",
    "                    temp_var.remove(candidate)\n",
    "                    Temp_X_train = X_train.iloc[:, temp_var]\n",
    "                    Temp_X_val   = X_val.iloc[:, temp_var]\n",
    "                    model.fit(Temp_X_train,y_train)\n",
    "                    prediction = model.predict(Temp_X_val)\n",
    "                    score = Acc(prediction>=threshold, y_val, pri=False)\n",
    "                    score_candidate.append((score, candidate))\n",
    "                \n",
    "                score_candidate.sort()\n",
    "                best_new_score, best_candidate = score_candidate.pop()\n",
    "                    \n",
    "                if current_score<best_new_score:\n",
    "                    print(\"success backward\")\n",
    "                    outmodel.append(best_candidate)\n",
    "                    inmodel.remove(best_candidate)\n",
    "                    current_score = best_new_score\n",
    "                    stop=0\n",
    "                    backward = backward+1\n",
    "                else:\n",
    "                    print(\"fails backward\")\n",
    "                    stop=stop+1\n",
    "                \n",
    "            print(inmodel)\n",
    "            \n",
    "        Temp_X_train = X_train.iloc[:, inmodel]\n",
    "        Temp_X_val   = X_val.iloc[:, inmodel]\n",
    "        model.fit(Temp_X_train, y_train)\n",
    "        prediction = model.predict(Temp_X_val)\n",
    "        score = Acc(prediction>=threshold, y_val, pri=False)\n",
    "        print(\"Best Validation Acc:\", round((score)*100, 1), \"%\")\n",
    "        print(\"선택된 변수의 개수:\", len(inmodel), \"개\")\n",
    "        print(\"success forward:\", forward)\n",
    "        print(\"success backward:\", backward)\n",
    "        \n",
    "    return model, inmodel"
   ]
  },
  {
   "cell_type": "code",
   "execution_count": null,
   "metadata": {
    "ExecuteTime": {
     "end_time": "2023-06-28T17:26:51.609383Z",
     "start_time": "2023-06-28T17:26:22.852539Z"
    }
   },
   "outputs": [],
   "source": [
    "#Example\n",
    "model, inmodel = variable_selection(LogisticRegression(solver=\"lbfgs\",max_iter=300), \n",
    "                                    X_train, y_train, X_val, y_val, direction=\"forward\")"
   ]
  },
  {
   "cell_type": "markdown",
   "metadata": {},
   "source": [
    "### STEP 8. Sickit-learn 패키지 사용"
   ]
  },
  {
   "cell_type": "code",
   "execution_count": null,
   "metadata": {
    "ExecuteTime": {
     "end_time": "2023-06-29T07:47:14.452036Z",
     "start_time": "2023-06-29T07:47:11.307383Z"
    }
   },
   "outputs": [],
   "source": [
    "from sklearn.feature_selection import SequentialFeatureSelector\n",
    "from sklearn.metrics import accuracy_score\n",
    "\n",
    "def variable_selection_scikit(model, X_train, y_train, X_val, y_val, direction=\"forward\", n_features_to_select=None, threshold=0.5):\n",
    "    # Define the feature selector\n",
    "    feature_selector = SequentialFeatureSelector(model, direction=direction, n_features_to_select=n_features_to_select)\n",
    "\n",
    "    # Fit the model\n",
    "    feature_selector.fit(X_train, y_train)\n",
    "\n",
    "    # Get the selected features\n",
    "    selected_features = X_train.columns[feature_selector.get_support()]\n",
    "    print([X_train.columns.get_loc(c) for c in selected_features if c in X_train])\n",
    "\n",
    "    Temp_X_train = X_train[selected_features]\n",
    "    Temp_X_val   = X_val[selected_features]\n",
    "                                        \n",
    "    model.fit(Temp_X_train, y_train)\n",
    "    prediction = model.predict(Temp_X_val)\n",
    "    score = Acc(prediction>=threshold, y_val, pri=False)\n",
    "    print(\"Best Validation Acc:\", round(score*100,1), \"%\")\n",
    "    print(\"선택된 변수의 개수:\", len(inmodel), \"개\")\n",
    "\n",
    "    return model, selected_features\n",
    "\n",
    "\n",
    "model, selected_features = variable_selection_scikit(LinearRegression(), X_train, y_train, X_val, y_val, direction=\"forward\",n_features_to_select=8, threshold=0.5)"
   ]
  },
  {
   "cell_type": "markdown",
   "metadata": {},
   "source": [
    "---"
   ]
  }
 ],
 "metadata": {
  "hide_input": false,
  "kernelspec": {
   "display_name": "Python 3",
   "language": "python",
   "name": "python3"
  },
  "language_info": {
   "codemirror_mode": {
    "name": "ipython",
    "version": 3
   },
   "file_extension": ".py",
   "mimetype": "text/x-python",
   "name": "python",
   "nbconvert_exporter": "python",
   "pygments_lexer": "ipython3",
   "version": "3.6.9"
  },
  "latex_envs": {
   "LaTeX_envs_menu_present": true,
   "autoclose": false,
   "autocomplete": true,
   "bibliofile": "biblio.bib",
   "cite_by": "apalike",
   "current_citInitial": 1,
   "eqLabelWithNumbers": true,
   "eqNumInitial": 1,
   "hotkeys": {
    "equation": "Ctrl-E",
    "itemize": "Ctrl-I"
   },
   "labels_anchors": false,
   "latex_user_defs": false,
   "report_style_numbering": false,
   "user_envs_cfg": false
  },
  "nbTranslate": {
   "displayLangs": [
    "ko",
    "en"
   ],
   "hotkey": "alt-t",
   "langInMainMenu": true,
   "sourceLang": "en",
   "targetLang": "ko",
   "useGoogleTranslate": true
  },
  "toc": {
   "base_numbering": 1,
   "nav_menu": {},
   "number_sections": true,
   "sideBar": true,
   "skip_h1_title": false,
   "title_cell": "Table of Contents",
   "title_sidebar": "Contents",
   "toc_cell": false,
   "toc_position": {},
   "toc_section_display": true,
   "toc_window_display": true
  },
  "varInspector": {
   "cols": {
    "lenName": 16,
    "lenType": 16,
    "lenVar": 40
   },
   "kernels_config": {
    "python": {
     "delete_cmd_postfix": "",
     "delete_cmd_prefix": "del ",
     "library": "var_list.py",
     "varRefreshCmd": "print(var_dic_list())"
    },
    "r": {
     "delete_cmd_postfix": ") ",
     "delete_cmd_prefix": "rm(",
     "library": "var_list.r",
     "varRefreshCmd": "cat(var_dic_list()) "
    }
   },
   "types_to_exclude": [
    "module",
    "function",
    "builtin_function_or_method",
    "instance",
    "_Feature"
   ],
   "window_display": false
  }
 },
 "nbformat": 4,
 "nbformat_minor": 2
}
